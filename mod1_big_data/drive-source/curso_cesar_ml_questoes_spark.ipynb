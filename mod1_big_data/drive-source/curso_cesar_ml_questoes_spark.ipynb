{
 "cells": [
  {
   "cell_type": "markdown",
   "metadata": {},
   "source": [
    "# Exercícios Spark SQL"
   ]
  },
  {
   "cell_type": "code",
   "execution_count": null,
   "metadata": {},
   "outputs": [],
   "source": [
    "# If necessary, set SPARK_HOME env variable\n",
    "%env SPARK_HOME=/opt/spark-2.4.3\n",
    "%env PYSPARK_PYTHON=/usr/bin/python3\n",
    "#PYSPARK_DRIVER_PYTHON\n",
    "\n",
    "import os\n",
    "exec(open(os.path.join(os.environ[\"SPARK_HOME\"], 'python/pyspark/shell.py')).read())"
   ]
  },
  {
   "cell_type": "code",
   "execution_count": null,
   "metadata": {},
   "outputs": [],
   "source": [
    "from pyspark.sql import functions as SF"
   ]
  },
  {
   "cell_type": "code",
   "execution_count": null,
   "metadata": {},
   "outputs": [],
   "source": [
    "#df = spark.read.csv('s3://<bucket_name>/BASE_JUR001.csv.gz',sep='\\t',encoding='utf-8', header=True,inferSchema=True)"
   ]
  },
  {
   "cell_type": "code",
   "execution_count": null,
   "metadata": {},
   "outputs": [],
   "source": [
    "#Download file\n",
    "!wget --no-check-certificate --no-proxy 'https://s3.us-east-2.amazonaws.com/cesarschool-data-samples/BASE_JUR001.csv.gz'"
   ]
  },
  {
   "cell_type": "code",
   "execution_count": null,
   "metadata": {},
   "outputs": [],
   "source": [
    "df = spark.read.csv('BASE_JUR001.csv.gz',sep='\\t',encoding='utf-8', header=True,inferSchema=True)"
   ]
  },
  {
   "cell_type": "code",
   "execution_count": null,
   "metadata": {},
   "outputs": [],
   "source": [
    "df.printSchema()"
   ]
  },
  {
   "cell_type": "markdown",
   "metadata": {},
   "source": [
    "## Questão 1"
   ]
  },
  {
   "cell_type": "markdown",
   "metadata": {},
   "source": [
    "Calcular a idade da empresa em anos considerando o REF_DATE."
   ]
  },
  {
   "cell_type": "code",
   "execution_count": null,
   "metadata": {},
   "outputs": [],
   "source": [
    "df = df.withColumn('AGE', (SF.unix_timestamp('REF_DATE') - SF.unix_timestamp('ABERTURA')) / (365 * 24 * 60 * 60))\n",
    "df.select(['CNPJ','ABERTURA','REF_DATE','AGE']).show()"
   ]
  },
  {
   "cell_type": "markdown",
   "metadata": {},
   "source": [
    "## Questão 2"
   ]
  },
  {
   "cell_type": "markdown",
   "metadata": {},
   "source": [
    "Criar flag ('S','N') indicando se o segundo telefone foi informado ou não."
   ]
  },
  {
   "cell_type": "code",
   "execution_count": null,
   "metadata": {},
   "outputs": [],
   "source": [
    "df = df.withColumn('FLAG_SEGUNDO_TELEFONE', SF.when(SF.col('TELEFONE_2').isNull(),'N').otherwise('S'))\n",
    "df.select(['CNPJ','TELEFONE_2','FLAG_SEGUNDO_TELEFONE']).show()"
   ]
  },
  {
   "cell_type": "markdown",
   "metadata": {},
   "source": [
    "## Questão 3"
   ]
  },
  {
   "cell_type": "markdown",
   "metadata": {},
   "source": [
    "Remover pontuação do CNPJ_FORMATADO"
   ]
  },
  {
   "cell_type": "code",
   "execution_count": null,
   "metadata": {},
   "outputs": [],
   "source": [
    "@SF.udf('string')\n",
    "def format_cnpj(cnpj):\n",
    "    return cnpj.replace('.','').replace('/','').replace('-','')"
   ]
  },
  {
   "cell_type": "code",
   "execution_count": null,
   "metadata": {},
   "outputs": [],
   "source": [
    "df = df.withColumn('CNPJ_WITHOUT_PONCT', format_cnpj(SF.col('CNPJ_FORMATADO')))\n",
    "df.select(['CNPJ','CNPJ_WITHOUT_PONCT','CNPJ_FORMATADO']).show()"
   ]
  },
  {
   "cell_type": "markdown",
   "metadata": {},
   "source": [
    "## Questão 4"
   ]
  },
  {
   "cell_type": "markdown",
   "metadata": {},
   "source": [
    "Excluir colunas que tenham um percentual de valores nulos acima de x%."
   ]
  },
  {
   "cell_type": "code",
   "execution_count": null,
   "metadata": {},
   "outputs": [],
   "source": [
    "def drop_null_columns(df_, perc):\n",
    "    count = float(df_.count())\n",
    "    for col in df_.columns:\n",
    "        null_count = df_.filter(SF.col(col).isNull()).count()\n",
    "        if null_count/count > perc:\n",
    "            df_ = df_.drop(col)\n",
    "        df_ = df_.cache()\n",
    "    return df_        "
   ]
  },
  {
   "cell_type": "code",
   "execution_count": null,
   "metadata": {},
   "outputs": [],
   "source": [
    "df_null = drop_null_columns(df, 0.7)\n",
    "len(df_null.columns)"
   ]
  },
  {
   "cell_type": "markdown",
   "metadata": {},
   "source": [
    "## Questão 5"
   ]
  },
  {
   "cell_type": "markdown",
   "metadata": {},
   "source": [
    "Criar duas novas colunas, uma com o ano e outra com o mês da data de abertura da empresa."
   ]
  },
  {
   "cell_type": "code",
   "execution_count": null,
   "metadata": {},
   "outputs": [],
   "source": [
    "df = df.withColumn('YEAR_FUNDATION', SF.year('ABERTURA').cast('int'))\n",
    "df = df.withColumn('MONTH_FUNDATION', SF.month('ABERTURA').cast('int'))\n",
    "df.select(['CNPJ','ABERTURA','YEAR_FUNDATION','MONTH_FUNDATION']).show()"
   ]
  },
  {
   "cell_type": "markdown",
   "metadata": {},
   "source": [
    "## Questão 6"
   ]
  },
  {
   "cell_type": "markdown",
   "metadata": {},
   "source": [
    "Criar uma flag indicando se a Atividade Principal da empresa é correspondente a Atividade Principal de todas as empresas do estado em que a empresa tá localizada."
   ]
  },
  {
   "cell_type": "code",
   "execution_count": null,
   "metadata": {},
   "outputs": [],
   "source": [
    "# Disconsidera as informaçẽos dos sócios\n",
    "df_aux = df.select('CNPJ','UF','ATIVIDADE_PRINCIPAL').dropDuplicates()\n",
    "df_aux.printSchema()"
   ]
  },
  {
   "cell_type": "code",
   "execution_count": null,
   "metadata": {},
   "outputs": [],
   "source": [
    "# Conta quantas empresas tem a mesma atividade principal para cada estado\n",
    "df_aux_2 = df_aux.groupBy(['UF','ATIVIDADE_PRINCIPAL']).agg(SF.count('CNPJ').alias('count'))\n",
    "df_aux_2.show(5)"
   ]
  },
  {
   "cell_type": "code",
   "execution_count": null,
   "metadata": {},
   "outputs": [],
   "source": [
    "# Encontra a quantidade da atividade principal que tem mais ocorrência\n",
    "df_aux_3 = df_aux_2.groupBy('UF').agg(SF.max(\"count\").alias('max_count')).withColumnRenamed('UF','UF_A')\n",
    "df_aux_3.show(5)"
   ]
  },
  {
   "cell_type": "code",
   "execution_count": null,
   "metadata": {},
   "outputs": [],
   "source": [
    "# Descobre a atividade principal que possui essa quantidade\n",
    "df_aux_4 = df_aux_2.join(df_aux_3,(df_aux_3['UF_A']==df_aux_2['UF'])&(df_aux_3['max_count']==df_aux_2['count']), 'left')\n",
    "df_aux_4.show(5)"
   ]
  },
  {
   "cell_type": "code",
   "execution_count": null,
   "metadata": {},
   "outputs": [],
   "source": [
    "df_aux_5 = df_aux_4.filter(SF.col('UF_A').isNotNull()).select('UF','ATIVIDADE_PRINCIPAL')\\\n",
    "            .withColumnRenamed('ATIVIDADE_PRINCIPAL','A_P').withColumnRenamed('UF','UF_')\n",
    "df_aux_5.show(5)"
   ]
  },
  {
   "cell_type": "code",
   "execution_count": null,
   "metadata": {},
   "outputs": [],
   "source": [
    "df_aux = df_aux.join(df_aux_5,(df_aux['UF']==df_aux_5['UF_'])&\n",
    "                     (df_aux['ATIVIDADE_PRINCIPAL']==df_aux_5['A_P']),'left')\n",
    "df_aux.show(5)"
   ]
  },
  {
   "cell_type": "code",
   "execution_count": null,
   "metadata": {},
   "outputs": [],
   "source": [
    "df_aux = df_aux.withColumn('FLAG_ATIVIDADE_PRINCIPAL_UF',SF.when(SF.col('A_P').isNull(),'N').otherwise('S'))\\\n",
    "    .drop('A_P').drop('UF_')\n",
    "df_aux.show()"
   ]
  },
  {
   "cell_type": "code",
   "execution_count": null,
   "metadata": {},
   "outputs": [],
   "source": []
  }
 ],
 "metadata": {
  "kernelspec": {
   "display_name": "Python 3",
   "language": "python",
   "name": "python3"
  },
  "language_info": {
   "codemirror_mode": {
    "name": "ipython",
    "version": 3
   },
   "file_extension": ".py",
   "mimetype": "text/x-python",
   "name": "python",
   "nbconvert_exporter": "python",
   "pygments_lexer": "ipython3",
   "version": "3.5.2"
  }
 },
 "nbformat": 4,
 "nbformat_minor": 2
}
