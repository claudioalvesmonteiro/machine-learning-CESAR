{
 "cells": [
  {
   "cell_type": "markdown",
   "metadata": {},
   "source": [
    "## Amazon S3 / Google Cloud Storage File System\n",
    "### Acesso aos arquivos de dados"
   ]
  },
  {
   "cell_type": "code",
   "execution_count": null,
   "metadata": {},
   "outputs": [],
   "source": [
    "#from gcsfs import GCSFileSystem    -->> Acessar arquivos no google cloud\n",
    "from s3fs import S3FileSystem      #-->> Acessar arquivos no amazon s3\n",
    "\n",
    "#gcs = GCSFileSystem(token='cloud', access='read_only')\n",
    "s3 = S3FileSystem(anon=True)     # Acesso em modo anônimo\n",
    "\n",
    "folder_name = 'cesarschool-data-samples/sample01'\n",
    "\n",
    "#details = gcs.ls(folder_name, detail=True)    -->> google cloud\n",
    "details = s3.ls(folder_name, detail=True)    #-->> amazon\n",
    "print(details)"
   ]
  },
  {
   "cell_type": "markdown",
   "metadata": {},
   "source": [
    "### Detalhes dos arquivos"
   ]
  },
  {
   "cell_type": "code",
   "execution_count": null,
   "metadata": {},
   "outputs": [],
   "source": [
    "# A variável details é uma lista de dicionários de informações sobre os arquivos. \n",
    "# Acesso aos campos pela sintaxe details['nome_do_campo']\n",
    "for file in details:\n",
    "    # Imprime nome e tamanho do arquivo em MBytes\n",
    "    print(file['Key'], round(file['Size']/(1024*1024.0), 2), 'MBytes')"
   ]
  },
  {
   "cell_type": "markdown",
   "metadata": {},
   "source": [
    "### Amostra dos arquivos"
   ]
  },
  {
   "cell_type": "code",
   "execution_count": null,
   "metadata": {},
   "outputs": [],
   "source": [
    "%%time\n",
    "# Abre arquivos para leitura e imprime primeiras linhas\n",
    "headers = []\n",
    "for file in details:\n",
    "    current_header = ''\n",
    "    # Se for um arquivo\n",
    "    if file['Size'] > 0:\n",
    "        # Abre arquivo para leitura\n",
    "        current_file = s3.open(file['Key'], 'rb')\n",
    "        #print(current_file)\n",
    "        print(file['Key'])\n",
    "        headers.append('\\n' + file['Key'] + '\\n')\n",
    "        print(current_file.readline())\n",
    "        for i in range(6):\n",
    "            headers.append(str(current_file.readline()) + '\\n')\n",
    "        current_file.close()\n",
    "        headers.append(current_header)\n",
    "        \n",
    "print(''.join(headers))\n"
   ]
  },
  {
   "cell_type": "code",
   "execution_count": null,
   "metadata": {},
   "outputs": [],
   "source": []
  }
 ],
 "metadata": {
  "kernelspec": {
   "display_name": "Python 3",
   "language": "python",
   "name": "python3"
  },
  "language_info": {
   "codemirror_mode": {
    "name": "ipython",
    "version": 3
   },
   "file_extension": ".py",
   "mimetype": "text/x-python",
   "name": "python",
   "nbconvert_exporter": "python",
   "pygments_lexer": "ipython3",
   "version": "3.7.1"
  },
  "varInspector": {
   "cols": {
    "lenName": 16,
    "lenType": 16,
    "lenVar": 40
   },
   "kernels_config": {
    "python": {
     "delete_cmd_postfix": "",
     "delete_cmd_prefix": "del ",
     "library": "var_list.py",
     "varRefreshCmd": "print(var_dic_list())"
    },
    "r": {
     "delete_cmd_postfix": ") ",
     "delete_cmd_prefix": "rm(",
     "library": "var_list.r",
     "varRefreshCmd": "cat(var_dic_list()) "
    }
   },
   "types_to_exclude": [
    "module",
    "function",
    "builtin_function_or_method",
    "instance",
    "_Feature"
   ],
   "window_display": false
  }
 },
 "nbformat": 4,
 "nbformat_minor": 2
}
