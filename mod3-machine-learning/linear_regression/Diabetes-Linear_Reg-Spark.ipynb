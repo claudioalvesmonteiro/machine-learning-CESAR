{
 "cells": [
  {
   "cell_type": "markdown",
   "metadata": {},
   "source": [
    "# Diabetes - Linear Regression\n",
    "This notebook models the relation between the Body mass index and a quantitative measure of disease progression one year after baseline as a Linear Regression.\n",
    "\n",
    "Instructions about Spark installation on [this medium post](https://medium.com/@roshinijohri/spark-with-jupyter-notebook-on-macos-2-0-0-and-higher-c61b971b5007)"
   ]
  },
  {
   "cell_type": "code",
   "execution_count": 1,
   "metadata": {},
   "outputs": [
    {
     "name": "stdout",
     "output_type": "stream",
     "text": [
      "Welcome to\n",
      "      ____              __\n",
      "     / __/__  ___ _____/ /__\n",
      "    _\\ \\/ _ \\/ _ `/ __/  '_/\n",
      "   /__ / .__/\\_,_/_/ /_/\\_\\   version 2.4.3\n",
      "      /_/\n",
      "\n",
      "Using Python version 3.7.1 (default, Nov 28 2018 11:51:54)\n",
      "SparkSession available as 'spark'.\n"
     ]
    }
   ],
   "source": [
    "import os\n",
    "import matplotlib.pyplot as plt\n",
    "import numpy as np\n",
    "import pandas as pd\n",
    "%matplotlib inline\n",
    "\n",
    "exec(open(os.path.join(os.environ[\"SPARK_HOME\"], 'python/pyspark/shell.py')).read())"
   ]
  },
  {
   "cell_type": "markdown",
   "metadata": {},
   "source": [
    "## Load the dataset\n",
    "Download the data file from [NSCU](https://www4.stat.ncsu.edu/~boos/var.select/diabetes.tab.txt) and plot some aspects of it.\n",
    "\n",
    "__Attribute Information:__\n",
    "First 10 columns are numeric predictive values:\n",
    "- Age\n",
    "- Sex\n",
    "- Body mass index\n",
    "- Average blood pressure\n",
    "- S1\n",
    "- S2\n",
    "- S3\n",
    "- S4\n",
    "- S5\n",
    "- S6\n",
    "(six blood serum measurements)\n",
    "\n",
    "__Target:__\n",
    "Column 11 is a quantitative measure of disease progression one year after baseline"
   ]
  },
  {
   "cell_type": "code",
   "execution_count": 67,
   "metadata": {
    "scrolled": true
   },
   "outputs": [
    {
     "name": "stdout",
     "output_type": "stream",
     "text": [
      "<class 'pandas.core.frame.DataFrame'>\n",
      "RangeIndex: 442 entries, 0 to 441\n",
      "Data columns (total 11 columns):\n",
      "AGE    442 non-null int64\n",
      "SEX    442 non-null int64\n",
      "BMI    442 non-null float64\n",
      "BP     442 non-null float64\n",
      "S1     442 non-null int64\n",
      "S2     442 non-null float64\n",
      "S3     442 non-null float64\n",
      "S4     442 non-null float64\n",
      "S5     442 non-null float64\n",
      "S6     442 non-null int64\n",
      "Y      442 non-null int64\n",
      "dtypes: float64(6), int64(5)\n",
      "memory usage: 38.1 KB\n"
     ]
    }
   ],
   "source": [
    "df = pd.read_csv('https://www4.stat.ncsu.edu/~boos/var.select/diabetes.tab.txt', delimiter='\\t')\n",
    "df.info()"
   ]
  },
  {
   "cell_type": "code",
   "execution_count": 163,
   "metadata": {},
   "outputs": [
    {
     "data": {
      "text/plain": [
       "<matplotlib.collections.PathCollection at 0x1199137b8>"
      ]
     },
     "execution_count": 163,
     "metadata": {},
     "output_type": "execute_result"
    },
    {
     "data": {
      "image/png": "[encoded data removed]",
      "text/plain": [
       "<Figure size 432x288 with 1 Axes>"
      ]
     },
     "metadata": {
      "needs_background": "light"
     },
     "output_type": "display_data"
    }
   ],
   "source": [
    "X = df.BMI # Body mass index\n",
    "y = df.Y\n",
    "plt.scatter(X, y,  color='black')"
   ]
  },
  {
   "cell_type": "markdown",
   "metadata": {},
   "source": [
    "## Create a Spark Dataframe\n",
    "Load the pandas data frame as a SparkDataframe"
   ]
  },
  {
   "cell_type": "code",
   "execution_count": 68,
   "metadata": {},
   "outputs": [
    {
     "data": {
      "text/plain": [
       "['AGE', 'SEX', 'BMI', 'BP', 'S1', 'S2', 'S3', 'S4', 'S5', 'S6', 'Y']"
      ]
     },
     "execution_count": 68,
     "metadata": {},
     "output_type": "execute_result"
    }
   ],
   "source": [
    "diabetes = spark.createDataFrame(df)\n",
    "diabetes.columns"
   ]
  },
  {
   "cell_type": "code",
   "execution_count": 69,
   "metadata": {},
   "outputs": [
    {
     "name": "stdout",
     "output_type": "stream",
     "text": [
      "+---+---+----+-----+---+-----+----+---+------+---+---+\n",
      "|AGE|SEX| BMI|   BP| S1|   S2|  S3| S4|    S5| S6|  Y|\n",
      "+---+---+----+-----+---+-----+----+---+------+---+---+\n",
      "| 59|  2|32.1|101.0|157| 93.2|38.0|4.0|4.8598| 87|151|\n",
      "| 48|  1|21.6| 87.0|183|103.2|70.0|3.0|3.8918| 69| 75|\n",
      "| 72|  2|30.5| 93.0|156| 93.6|41.0|4.0|4.6728| 85|141|\n",
      "+---+---+----+-----+---+-----+----+---+------+---+---+\n",
      "only showing top 3 rows\n",
      "\n"
     ]
    }
   ],
   "source": [
    "diabetes.show(3)"
   ]
  },
  {
   "cell_type": "markdown",
   "metadata": {},
   "source": [
    "## Transform Spark Dataframe on VectorAssembler"
   ]
  },
  {
   "cell_type": "code",
   "execution_count": 191,
   "metadata": {},
   "outputs": [
    {
     "name": "stdout",
     "output_type": "stream",
     "text": [
      "+--------------------+---+\n",
      "|            features|  Y|\n",
      "+--------------------+---+\n",
      "|[59.0,2.0,32.1,10...|151|\n",
      "|[48.0,1.0,21.6,87...| 75|\n",
      "|[72.0,2.0,30.5,93...|141|\n",
      "+--------------------+---+\n",
      "only showing top 3 rows\n",
      "\n"
     ]
    }
   ],
   "source": [
    "from pyspark.ml.feature import VectorAssembler\n",
    "\n",
    "vectorAssembler = VectorAssembler(inputCols = ['AGE', 'SEX', 'BMI', 'BP', 'S1', 'S2', 'S3', 'S4', 'S5', 'S6'], outputCol = 'features')\n",
    "vDiabetes = vectorAssembler.transform(diabetes)\n",
    "vDiabetes = vDiabetes.select(['features', 'Y'])\n",
    "vDiabetes.show(3)"
   ]
  },
  {
   "cell_type": "markdown",
   "metadata": {},
   "source": [
    "## Split data on train and test sets"
   ]
  },
  {
   "cell_type": "code",
   "execution_count": 192,
   "metadata": {},
   "outputs": [
    {
     "name": "stdout",
     "output_type": "stream",
     "text": [
      "+--------------------+---+\n",
      "|            features|  Y|\n",
      "+--------------------+---+\n",
      "|[20.0,1.0,22.9,87...|113|\n",
      "|[22.0,1.0,19.3,82...|134|\n",
      "|[22.0,1.0,23.0,73...|200|\n",
      "+--------------------+---+\n",
      "only showing top 3 rows\n",
      "\n"
     ]
    }
   ],
   "source": [
    "splits = vDiabetes.randomSplit([0.7, 0.3])\n",
    "train = splits[0]\n",
    "test = splits[1]\n",
    "train.show(3)"
   ]
  },
  {
   "cell_type": "code",
   "execution_count": 239,
   "metadata": {},
   "outputs": [
    {
     "data": {
      "text/plain": [
       "<matplotlib.collections.PathCollection at 0x11cf886a0>"
      ]
     },
     "execution_count": 239,
     "metadata": {},
     "output_type": "execute_result"
    },
    {
     "data": {
      "image/png": "[encoded data removed]",
      "text/plain": [
       "<Figure size 432x288 with 1 Axes>"
      ]
     },
     "metadata": {
      "needs_background": "light"
     },
     "output_type": "display_data"
    }
   ],
   "source": [
    "from pyspark.sql.functions import udf\n",
    "from pyspark.sql.types import FloatType\n",
    "\n",
    "# train.select('features').collect()\n",
    "firstelement=udf(lambda v:float(v[2]),FloatType())\n",
    "X = train.select(firstelement('features'))\n",
    "X = [float(row[0]) for row in X.collect()]\n",
    "y = [float(row['Y']) for row in train.collect()]\n",
    "\n",
    "xTest = test.select(firstelement('features'))\n",
    "xTest = [float(row[0]) for row in xTest.collect()]\n",
    "yTest = [float(row['Y']) for row in test.collect()]\n",
    "\n",
    "plt.scatter(X, y,  color='black')\n",
    "plt.scatter(xTest, yTest,  color='blue')"
   ]
  },
  {
   "cell_type": "markdown",
   "metadata": {},
   "source": [
    "## Create the Linear Regression model and fit it"
   ]
  },
  {
   "cell_type": "code",
   "execution_count": 143,
   "metadata": {},
   "outputs": [
    {
     "name": "stdout",
     "output_type": "stream",
     "text": [
      "Coefficients: [-0.001924739551692976,-22.029646337944033,4.579570688560903,1.0844613940187113,-0.43629767008400205,0.13273762180368476,-0.2737674725964313,7.510481569554498,52.68975303743487,0.4262446283038663]\n",
      "Intercept: -271.8656897734725\n"
     ]
    }
   ],
   "source": [
    "from pyspark.ml.regression import LinearRegression\n",
    "lr = LinearRegression(featuresCol = 'features', labelCol='Y', maxIter=30, regParam=0.3, elasticNetParam=0.8)\n",
    "\n",
    "# Fit the model\n",
    "lrModel = lr.fit(train)\n",
    "print(\"Coefficients: \" + str(lrModel.coefficients))\n",
    "print(\"Intercept: \" + str(lrModel.intercept))"
   ]
  },
  {
   "cell_type": "code",
   "execution_count": 144,
   "metadata": {},
   "outputs": [
    {
     "name": "stdout",
     "output_type": "stream",
     "text": [
      "RMSE: 53.274024\n",
      "r2: 0.510923\n"
     ]
    }
   ],
   "source": [
    "trainingSummary = lrModel.summary\n",
    "print(\"RMSE: %f\" % trainingSummary.rootMeanSquaredError)\n",
    "print(\"r2: %f\" % trainingSummary.r2)"
   ]
  },
  {
   "cell_type": "code",
   "execution_count": 145,
   "metadata": {},
   "outputs": [
    {
     "name": "stdout",
     "output_type": "stream",
     "text": [
      "+-------+-----------------+\n",
      "|summary|                Y|\n",
      "+-------+-----------------+\n",
      "|  count|              302|\n",
      "|   mean| 151.841059602649|\n",
      "| stddev|76.30399881669612|\n",
      "|    min|               31|\n",
      "|    max|              341|\n",
      "+-------+-----------------+\n",
      "\n"
     ]
    }
   ],
   "source": [
    "train.describe().show()"
   ]
  },
  {
   "cell_type": "code",
   "execution_count": 146,
   "metadata": {},
   "outputs": [
    {
     "name": "stdout",
     "output_type": "stream",
     "text": [
      "+--------------------+---+\n",
      "|            features|  Y|\n",
      "+--------------------+---+\n",
      "|[22.0,1.0,18.6,97...|101|\n",
      "|[29.0,1.0,26.0,83...| 61|\n",
      "|[30.0,2.0,25.2,83...|202|\n",
      "|[31.0,1.0,29.7,88...|184|\n",
      "|[35.0,1.0,20.4,65...| 96|\n",
      "+--------------------+---+\n",
      "only showing top 5 rows\n",
      "\n"
     ]
    }
   ],
   "source": [
    "test.show(5)"
   ]
  },
  {
   "cell_type": "code",
   "execution_count": 148,
   "metadata": {},
   "outputs": [
    {
     "name": "stdout",
     "output_type": "stream",
     "text": [
      "+------------------+---+--------------------+\n",
      "|        prediction|  Y|            features|\n",
      "+------------------+---+--------------------+\n",
      "|100.33655802221676|101|[22.0,1.0,18.6,97...|\n",
      "|109.98511855977586| 61|[29.0,1.0,26.0,83...|\n",
      "|146.76120123232909|202|[30.0,2.0,25.2,83...|\n",
      "| 158.0558239363424|184|[31.0,1.0,29.7,88...|\n",
      "|63.577129956888996| 96|[35.0,1.0,20.4,65...|\n",
      "+------------------+---+--------------------+\n",
      "only showing top 5 rows\n",
      "\n",
      "R Squared (R2) on test data = 0.51594\n"
     ]
    }
   ],
   "source": [
    "from pyspark.ml.evaluation import RegressionEvaluator\n",
    "\n",
    "predictions = lrModel.transform(test)\n",
    "predictions.select(\"prediction\",\"Y\",\"features\").show(5)\n",
    "\n",
    "\n",
    "evaluator = RegressionEvaluator(predictionCol=\"prediction\", \\\n",
    "                 labelCol=\"Y\",metricName=\"r2\")\n",
    "print(\"R Squared (R2) on test data = %g\" % evaluator.evaluate(predictions))"
   ]
  },
  {
   "cell_type": "code",
   "execution_count": 149,
   "metadata": {},
   "outputs": [
    {
     "name": "stdout",
     "output_type": "stream",
     "text": [
      "Root Mean Squared Error (RMSE) on test data = 54.796\n"
     ]
    }
   ],
   "source": [
    "testResult = lrModel.evaluate(test)\n",
    "print(\"Root Mean Squared Error (RMSE) on test data = %g\" % testResult.rootMeanSquaredError)"
   ]
  },
  {
   "cell_type": "code",
   "execution_count": 150,
   "metadata": {},
   "outputs": [
    {
     "name": "stdout",
     "output_type": "stream",
     "text": [
      "numIterations: 31\n",
      "objectiveHistory: [0.5000000000000002, 0.4441897409829618, 0.27703015222532285, 0.2699412925712932, 0.2539047955403203, 0.250753362377854, 0.25035686153417186, 0.2502373420672937, 0.25012550662010646, 0.2499749229631131, 0.24983175646265973, 0.24975550053664866, 0.24953094143878754, 0.24946033599615822, 0.24945155346519418, 0.24939447740404214, 0.2493748177303759, 0.24936248811162115, 0.24935152021664814, 0.24934229178837894, 0.24933117217972212, 0.2493247731134857, 0.2493040505717619, 0.24928276388626333, 0.24927456281624596, 0.24925970220961036, 0.24925614117807965, 0.24924697456007064, 0.24924477527685432, 0.24923852518395523, 0.24923206427225456]\n",
      "+-------------------+\n",
      "|          residuals|\n",
      "+-------------------+\n",
      "|  37.86274834799025|\n",
      "| 17.208388218065068|\n",
      "|-23.104822433034713|\n",
      "|   57.5790923542437|\n",
      "| 118.43980740917993|\n",
      "| -5.091818595569123|\n",
      "|  157.2217650821094|\n",
      "|  39.72266937219575|\n",
      "| -45.19389693008253|\n",
      "|-39.434108202210155|\n",
      "|  33.31209552215745|\n",
      "|-13.834780968875407|\n",
      "|  34.75140783833166|\n",
      "| 101.03327367127463|\n",
      "| 0.8434092948376701|\n",
      "|-22.521634714218237|\n",
      "| -82.55618456379477|\n",
      "| 53.909642669457526|\n",
      "| -74.70598385766073|\n",
      "| -43.34280544876435|\n",
      "+-------------------+\n",
      "only showing top 20 rows\n",
      "\n"
     ]
    }
   ],
   "source": [
    "print(\"numIterations: %d\" % trainingSummary.totalIterations)\n",
    "print(\"objectiveHistory: %s\" % str(trainingSummary.objectiveHistory))\n",
    "trainingSummary.residuals.show()"
   ]
  },
  {
   "cell_type": "markdown",
   "metadata": {},
   "source": [
    "## Constructs Simple Linear Regression\n",
    "\n",
    "Considers just the BMI feature to predict Y."
   ]
  },
  {
   "cell_type": "code",
   "execution_count": 248,
   "metadata": {},
   "outputs": [
    {
     "name": "stdout",
     "output_type": "stream",
     "text": [
      "+--------+---+\n",
      "|features|  Y|\n",
      "+--------+---+\n",
      "|  [32.1]|151|\n",
      "|  [21.6]| 75|\n",
      "|  [30.5]|141|\n",
      "+--------+---+\n",
      "only showing top 3 rows\n",
      "\n"
     ]
    }
   ],
   "source": [
    "from pyspark.ml.feature import VectorAssembler\n",
    "\n",
    "vectorAssembler = VectorAssembler(inputCols = ['BMI'], outputCol = 'features')\n",
    "vDiabetes = vectorAssembler.transform(diabetes)\n",
    "vDiabetes = vDiabetes.select(['features', 'Y'])\n",
    "vDiabetes.show(3)"
   ]
  },
  {
   "cell_type": "code",
   "execution_count": 249,
   "metadata": {},
   "outputs": [
    {
     "name": "stdout",
     "output_type": "stream",
     "text": [
      "+--------+---+\n",
      "|features|  Y|\n",
      "+--------+---+\n",
      "|  [19.6]|142|\n",
      "|  [20.1]| 55|\n",
      "|  [20.4]| 96|\n",
      "|  [20.4]|170|\n",
      "|  [21.0]|162|\n",
      "+--------+---+\n",
      "only showing top 5 rows\n",
      "\n"
     ]
    }
   ],
   "source": [
    "sSplits = vDiabetes.randomSplit([0.7, 0.3])\n",
    "sTrain = sSplits[0]\n",
    "sTest = sSplits[1]\n",
    "sTest.show(5)"
   ]
  },
  {
   "cell_type": "code",
   "execution_count": 250,
   "metadata": {},
   "outputs": [
    {
     "name": "stdout",
     "output_type": "stream",
     "text": [
      "Coefficients: [10.204486916705566]\n",
      "Intercept: -117.94739508253551\n"
     ]
    }
   ],
   "source": [
    "from pyspark.ml.regression import LinearRegression\n",
    "lrSimple = LinearRegression(featuresCol='features', labelCol='Y', maxIter=10, regParam=0.3, elasticNetParam=0.8)\n",
    "\n",
    "# Fit the model\n",
    "lrSimpleModel = lrSimple.fit(sTrain)\n",
    "print(\"Coefficients: \" + str(lrSimpleModel.coefficients))\n",
    "print(\"Intercept: \" + str(lrSimpleModel.intercept))"
   ]
  },
  {
   "cell_type": "code",
   "execution_count": 251,
   "metadata": {},
   "outputs": [
    {
     "name": "stdout",
     "output_type": "stream",
     "text": [
      "RMSE: 61.246886\n",
      "r2: 0.373719\n"
     ]
    }
   ],
   "source": [
    "summary = lrSimpleModel.summary\n",
    "print(\"RMSE: %f\" % summary.rootMeanSquaredError)\n",
    "print(\"r2: %f\" % summary.r2)"
   ]
  },
  {
   "cell_type": "code",
   "execution_count": 252,
   "metadata": {},
   "outputs": [
    {
     "name": "stdout",
     "output_type": "stream",
     "text": [
      "<bound method DataFrame.count of DataFrame[features: vector, Y: bigint]>\n",
      "<bound method DataFrame.count of DataFrame[features: vector, Y: bigint, prediction: double]>\n",
      "+-----------------+---+--------+\n",
      "|       prediction|  Y|features|\n",
      "+-----------------+---+--------+\n",
      "|82.06054848489359|142|  [19.6]|\n",
      "|87.16279194324639| 55|  [20.1]|\n",
      "|90.22413801825803| 96|  [20.4]|\n",
      "|90.22413801825803|170|  [20.4]|\n",
      "|96.34683016828137|162|  [21.0]|\n",
      "+-----------------+---+--------+\n",
      "only showing top 5 rows\n",
      "\n",
      "R Squared (R2) on test data = 0.274232\n"
     ]
    }
   ],
   "source": [
    "from pyspark.ml.evaluation import RegressionEvaluator\n",
    "print(sTest.count)\n",
    "sPredictions = lrSimpleModel.transform(sTest)\n",
    "print(sPredictions.count)\n",
    "sPredictions.select(\"prediction\",\"Y\",\"features\").show(5)\n",
    "\n",
    "sEvaluator = RegressionEvaluator(predictionCol=\"prediction\", \\\n",
    "                 labelCol=\"Y\",metricName=\"r2\")\n",
    "print(\"R Squared (R2) on test data = %g\" % sEvaluator.evaluate(sPredictions))"
   ]
  },
  {
   "cell_type": "code",
   "execution_count": 258,
   "metadata": {},
   "outputs": [
    {
     "name": "stdout",
     "output_type": "stream",
     "text": [
      "137\n",
      "137\n",
      "137\n"
     ]
    },
    {
     "data": {
      "text/plain": [
       "[<matplotlib.lines.Line2D at 0x1243edf28>]"
      ]
     },
     "execution_count": 258,
     "metadata": {},
     "output_type": "execute_result"
    },
    {
     "data": {
      "image/png": "[encoded data removed]",
      "text/plain": [
       "<Figure size 432x288 with 1 Axes>"
      ]
     },
     "metadata": {
      "needs_background": "light"
     },
     "output_type": "display_data"
    }
   ],
   "source": [
    "from pyspark.sql.functions import udf\n",
    "from pyspark.sql.types import FloatType\n",
    "\n",
    "firstelement=udf(lambda v:float(v[0]),FloatType())\n",
    "xsTest = sTest.select(firstelement('features'))\n",
    "xsTest = [float(row[0]) for row in xsTest.collect()]\n",
    "print(len(xsTest))\n",
    "\n",
    "ysTest = [float(row['Y']) for row in sTest.collect()]\n",
    "print(len(ysTest))\n",
    "yPred = [float(row[\"prediction\"]) for row in sPredictions.collect()]\n",
    "print(len(yPred))\n",
    "plt.scatter(xsTest, ysTest,  color='blue')\n",
    "plt.plot(xsTest, yPred, color='black', linewidth=3)"
   ]
  },
  {
   "cell_type": "code",
   "execution_count": 259,
   "metadata": {
    "scrolled": true
   },
   "outputs": [
    {
     "name": "stdout",
     "output_type": "stream",
     "text": [
      "Root Mean Squared Error (RMSE) on test data = 64.8333\n"
     ]
    }
   ],
   "source": [
    "sTest = lrSimpleModel.evaluate(sTest)\n",
    "print(\"Root Mean Squared Error (RMSE) on test data = %g\" % sTest.rootMeanSquaredError)"
   ]
  },
  {
   "cell_type": "code",
   "execution_count": null,
   "metadata": {},
   "outputs": [],
   "source": []
  }
 ],
 "metadata": {
  "kernelspec": {
   "display_name": "Python 3",
   "language": "python",
   "name": "python3"
  },
  "language_info": {
   "codemirror_mode": {
    "name": "ipython",
    "version": 3
   },
   "file_extension": ".py",
   "mimetype": "text/x-python",
   "name": "python",
   "nbconvert_exporter": "python",
   "pygments_lexer": "ipython3",
   "version": "3.6.8"
  }
 },
 "nbformat": 4,
 "nbformat_minor": 2
}
